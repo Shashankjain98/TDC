{
  "nbformat": 4,
  "nbformat_minor": 0,
  "metadata": {
    "colab": {
      "provenance": []
    },
    "kernelspec": {
      "name": "python3",
      "display_name": "Python 3"
    },
    "language_info": {
      "name": "python"
    }
  },
  "cells": [
    {
      "cell_type": "markdown",
      "source": [
        "**Distributed CNN Training with Data Augmentation using TensorFlow**"
      ],
      "metadata": {
        "id": "QdqNKRoQaJ_J"
      }
    },
    {
      "cell_type": "code",
      "execution_count": 1,
      "metadata": {
        "colab": {
          "base_uri": "https://localhost:8080/"
        },
        "id": "zWL1sH8qaJAz",
        "outputId": "857d94c8-cb4f-4c55-9cca-8ef13cd5fe49"
      },
      "outputs": [
        {
          "output_type": "stream",
          "name": "stdout",
          "text": [
            "Downloading data from https://www.cs.toronto.edu/~kriz/cifar-10-python.tar.gz\n",
            "170498071/170498071 [==============================] - 11s 0us/step\n",
            "Number of devices: 1\n",
            "Epoch 1/5\n",
            "781/781 [==============================] - 93s 117ms/step - loss: 1.7706 - accuracy: 0.1097\n",
            "Epoch 2/5\n",
            "781/781 [==============================] - 89s 114ms/step - loss: 1.5218 - accuracy: 0.0943\n",
            "Epoch 3/5\n",
            "781/781 [==============================] - 89s 114ms/step - loss: 1.4014 - accuracy: 0.0928\n",
            "Epoch 4/5\n",
            "781/781 [==============================] - 89s 113ms/step - loss: 1.3208 - accuracy: 0.0945\n",
            "Epoch 5/5\n",
            "781/781 [==============================] - 91s 116ms/step - loss: 1.2703 - accuracy: 0.0971\n",
            "313/313 - 4s - loss: 1.1109 - accuracy: 0.0963 - 4s/epoch - 12ms/step\n",
            "\n",
            "Test accuracy: 0.09629999846220016\n"
          ]
        }
      ],
      "source": [
        "import tensorflow as tf\n",
        "from tensorflow.keras import layers, models\n",
        "from tensorflow.keras.datasets import cifar10\n",
        "from tensorflow.keras.preprocessing.image import ImageDataGenerator\n",
        "\n",
        "# Load and preprocess the CIFAR-10 dataset\n",
        "(x_train, y_train), (x_test, y_test) = cifar10.load_data()\n",
        "x_train, x_test = x_train / 255.0, x_test / 255.0\n",
        "\n",
        "# Define a CNN model\n",
        "def create_model():\n",
        "    model = models.Sequential([\n",
        "        layers.Conv2D(32, (3, 3), activation='relu', input_shape=(32, 32, 3)),\n",
        "        layers.MaxPooling2D((2, 2)),\n",
        "        layers.Conv2D(64, (3, 3), activation='relu'),\n",
        "        layers.MaxPooling2D((2, 2)),\n",
        "        layers.Conv2D(64, (3, 3), activation='relu'),\n",
        "        layers.Flatten(),\n",
        "        layers.Dense(64, activation='relu'),\n",
        "        layers.Dense(10)\n",
        "    ])\n",
        "\n",
        "    model.compile(optimizer='adam',\n",
        "                  loss=tf.losses.SparseCategoricalCrossentropy(from_logits=True),\n",
        "                  metrics=['accuracy'])\n",
        "\n",
        "    return model\n",
        "\n",
        "# Create a MirroredStrategy for distributed training\n",
        "strategy = tf.distribute.MirroredStrategy()\n",
        "\n",
        "print('Number of devices: {}'.format(strategy.num_replicas_in_sync))\n",
        "\n",
        "# Open a strategy scope.\n",
        "with strategy.scope():\n",
        "    # Create and compile the model within the strategy scope\n",
        "    model = create_model()\n",
        "\n",
        "# Augment the training data using ImageDataGenerator\n",
        "datagen = ImageDataGenerator(rotation_range=20, width_shift_range=0.2, height_shift_range=0.2, horizontal_flip=True)\n",
        "datagen.fit(x_train)\n",
        "\n",
        "# Train the model using the fit method with augmented data\n",
        "model.fit(datagen.flow(x_train, y_train, batch_size=64), epochs=5, steps_per_epoch=len(x_train) // 64)\n",
        "\n",
        "# Evaluate the model on the test data\n",
        "test_loss, test_acc = model.evaluate(x_test, y_test, verbose=2)\n",
        "print('\\nTest accuracy:', test_acc)\n"
      ]
    },
    {
      "cell_type": "markdown",
      "source": [
        "This TensorFlow script demonstrates distributed training of a Convolutional Neural Network (CNN) on the CIFAR-10 dataset using the MirroredStrategy for multi-GPU support. The CNN architecture consists of convolutional and pooling layers followed by dense layers. The script utilizes the ImageDataGenerator to augment the training data with rotations, shifts, and flips. The MirroredStrategy ensures efficient distributed training across multiple devices. The model is compiled with the Adam optimizer and Sparse Categorical Crossentropy loss. After training with augmented data, the script evaluates the model on the test set, providing insights into its accuracy."
      ],
      "metadata": {
        "id": "_vMjWDR_ZCpX"
      }
    }
  ]
}